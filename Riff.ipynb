{
 "cells": [
  {
   "cell_type": "code",
   "execution_count": null,
   "metadata": {},
   "outputs": [],
   "source": [
    "from riffusion_inference.riffusion.spectrogram_image_converter import SpectrogramImageConverter\n",
    "from riffusion_inference.riffusion.spectrogram_params import SpectrogramParams"
   ]
  },
  {
   "cell_type": "code",
   "execution_count": null,
   "metadata": {},
   "outputs": [],
   "source": [
    "from diffusers import DiffusionPipeline\n",
    "\n",
    "pipeline = DiffusionPipeline.from_pretrained(\"riffusion/riffusion-model-v1\")\n",
    "params = SpectrogramParams()\n",
    "converter = SpectrogramImageConverter(params)\n",
    "\n",
    "\n",
    "def riffusionAudio(text_input):\n",
    "\n",
    "    out = pipeline(text_input).images[0]\n",
    "    audio = converter.audio_from_spectrogram_image(out)\n",
    "    return audio"
   ]
  },
  {
   "cell_type": "code",
   "execution_count": null,
   "metadata": {},
   "outputs": [],
   "source": [
    "prompts_genres = [\n",
    "    \"Create a powerful orchestral composition inspired by Beethoven's symphonies, focusing on dramatic strings, woodwinds, and brass.\",\n",
    "    \"Generate a high-energy, bass-heavy EDM track with pulsating beats, synths, and drops designed for a festival crowd.\",\n",
    "    \"Compose a mellow, chill lo-fi hip-hop track with soft drums, vinyl crackle, jazzy chords, and relaxing vibes.\",\n",
    "    \"Design an uplifting indie rock song featuring jangly guitars, heartfelt vocals, and catchy rhythms in the style of early 2000s bands.\",\n",
    "    \"Create a smooth jazz-fusion track with complex improvisation on saxophone, electric guitar, and keyboards, blending jazz and rock elements.\",\n",
    "    \"Generate an ethereal ambient soundscape filled with subtle drones, soft pads, and calming nature sounds, perfect for relaxation or meditation.\",\n",
    "    \"Compose a laid-back reggae track with offbeat guitar skanks, deep basslines, and a groove that embodies the spirit of the Caribbean.\",\n",
    "    \"Create a warm and heartfelt country folk song with acoustic guitar, banjo, harmonica, and soulful storytelling lyrics.\",\n",
    "    \"Produce an upbeat Afrobeat track featuring rhythmic percussion, brass horns, and vibrant melodies inspired by African dance music.\",\n",
    "    \"Design an intense and aggressive heavy metal track with fast-paced guitar riffs, double bass drumming, and raw, powerful vocals.\"\n",
    "]\n",
    "\n",
    "mood_prompts = [\n",
    "    \"Compose a melancholic piano ballad that evokes a deep sense of sadness and reflection, with slow, emotional melodies.\",\n",
    "    \"Generate a joyful and upbeat pop song filled with catchy hooks, bright chords, and an infectious feel-good energy.\",\n",
    "    \"Create a haunting, eerie soundscape featuring dissonant tones, whispering winds, and unsettling effects to evoke a sense of fear and tension.\",\n",
    "    \"Design a calming and peaceful acoustic track with soft guitar strumming and gentle melodies, perfect for relaxation or unwinding after a long day.\",\n",
    "    \"Produce a high-energy, adrenaline-pumping rock anthem with intense guitar riffs, driving drums, and powerful vocals, perfect for an action-packed atmosphere.\",\n",
    "    \"Generate a dreamy, nostalgic synthwave track that evokes the bittersweet feeling of longing for the past, with lush synths and retro beats.\",\n",
    "    \"Compose an intense, dramatic orchestral piece that builds tension and suspense, featuring pounding percussion and rising string sections.\",\n",
    "    \"Create a romantic and tender love song with smooth vocals, delicate piano, and soft strings, capturing the feeling of intimacy and warmth.\",\n",
    "    \"Design an empowering, triumphant hip-hop track with bold beats, confident lyrics, and a sense of determination and victory.\",\n",
    "    \"Produce a serene and ethereal ambient track with soft, floating pads and distant chimes that evoke a sense of wonder and introspection.\"\n",
    "]"
   ]
  },
  {
   "cell_type": "code",
   "execution_count": null,
   "metadata": {},
   "outputs": [],
   "source": [
    "### Generate audio for CAP dataset\n",
    "import pandas as pd\n",
    "\n",
    "df = pd.read_csv(\"CAP.csv\")\n",
    "\n",
    "for i in range(0, 10):\n",
    "    text = df.iloc[i, 1]\n",
    "    audio = riffusionAudio(text)\n",
    "    audio.export(f\"CAP_{i}.wav\", format=\"wav\")"
   ]
  },
  {
   "cell_type": "code",
   "execution_count": null,
   "metadata": {},
   "outputs": [],
   "source": [
    "## Generate audio for prompts_genres\n",
    "\n",
    "for i in range(7,len(prompts_genres)):\n",
    "    audio = riffusionAudio(prompts_genres[i])\n",
    "    audio.export(f'./riffusion_audio/genre_{i}.mp3',format='mp3')\n",
    "    print(f'Generated audio for genre prompt {i}')"
   ]
  },
  {
   "cell_type": "code",
   "execution_count": null,
   "metadata": {},
   "outputs": [],
   "source": [
    "### Generate audio for mood_prompts\n",
    "\n",
    "for i in range(len(mood_prompts)):\n",
    "    audio = riffusionAudio(mood_prompts[i])\n",
    "    audio.export(f'./riffusion_audio/mood_{i}.mp3',format='mp3')\n",
    "    print(f'Generated audio for mood prompt {i}')"
   ]
  },
  {
   "cell_type": "code",
   "execution_count": null,
   "metadata": {},
   "outputs": [],
   "source": []
  }
 ],
 "metadata": {
  "kernelspec": {
   "display_name": "Python 3",
   "language": "python",
   "name": "python3"
  },
  "language_info": {
   "codemirror_mode": {
    "name": "ipython",
    "version": 3
   },
   "file_extension": ".py",
   "mimetype": "text/x-python",
   "name": "python",
   "nbconvert_exporter": "python",
   "pygments_lexer": "ipython3",
   "version": "3.11.0"
  }
 },
 "nbformat": 4,
 "nbformat_minor": 2
}
